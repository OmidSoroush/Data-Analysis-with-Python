{
 "cells": [
  {
   "cell_type": "markdown",
   "id": "e255b972",
   "metadata": {},
   "source": [
    "# First Tutorial\n",
    "### Learning Goals of the first Tutorial\n",
    "\n",
    "1. What is Python?\n",
    "2. How to use Python as a basic calculator\n",
    "3. Data structures in Python: strings, lists, sets, tuples, dictionaries and matrices\n",
    "4. Select elements in a string, list or dataframe\n",
    "5. Working with data.frames - Loading and manipulating data\n",
    "6. Plotting data and saving plots"
   ]
  },
  {
   "cell_type": "markdown",
   "id": "cb7f56ac",
   "metadata": {},
   "source": [
    "## What is Python\n",
    "\n",
    "Python is an open-source programming language designed to help you create web applications, perform data analysis and machine learning, create graphics and many more. \n",
    "\n",
    "Python is popular for having a **simple syntax**, being **versatile** (used for many different tasks), being **beginner friendly** and having a **large and active community**."
   ]
  },
  {
   "cell_type": "markdown",
   "id": "e23ca228",
   "metadata": {},
   "source": [
    "## Python as a basic calculator\n",
    "\n",
    "Python can perform arithmetic operations. Here are some examples:"
   ]
  },
  {
   "cell_type": "code",
   "execution_count": 1,
   "id": "2fd904ad",
   "metadata": {},
   "outputs": [
    {
     "data": {
      "text/plain": [
       "3"
      ]
     },
     "execution_count": 1,
     "metadata": {},
     "output_type": "execute_result"
    }
   ],
   "source": [
    "# Addition\n",
    "1 + 2"
   ]
  },
  {
   "cell_type": "code",
   "execution_count": 2,
   "id": "e182c2fd",
   "metadata": {},
   "outputs": [
    {
     "data": {
      "text/plain": [
       "2"
      ]
     },
     "execution_count": 2,
     "metadata": {},
     "output_type": "execute_result"
    }
   ],
   "source": [
    "# Subtraction\n",
    "4 - 2"
   ]
  },
  {
   "cell_type": "code",
   "execution_count": 3,
   "id": "717922c1",
   "metadata": {},
   "outputs": [
    {
     "data": {
      "text/plain": [
       "12"
      ]
     },
     "execution_count": 3,
     "metadata": {},
     "output_type": "execute_result"
    }
   ],
   "source": [
    "# Mulitiplication\n",
    "3 * 4"
   ]
  },
  {
   "cell_type": "code",
   "execution_count": 4,
   "id": "c77ca3aa",
   "metadata": {},
   "outputs": [
    {
     "data": {
      "text/plain": [
       "2.6666666666666665"
      ]
     },
     "execution_count": 4,
     "metadata": {},
     "output_type": "execute_result"
    }
   ],
   "source": [
    "# Division\n",
    "8 / 3"
   ]
  },
  {
   "cell_type": "code",
   "execution_count": 5,
   "id": "9fd33ae1",
   "metadata": {},
   "outputs": [
    {
     "data": {
      "text/plain": [
       "8"
      ]
     },
     "execution_count": 5,
     "metadata": {},
     "output_type": "execute_result"
    }
   ],
   "source": [
    "# Exponentiation\n",
    "2 ** 3"
   ]
  },
  {
   "cell_type": "code",
   "execution_count": 6,
   "id": "36457908",
   "metadata": {},
   "outputs": [
    {
     "data": {
      "text/plain": [
       "1"
      ]
     },
     "execution_count": 6,
     "metadata": {},
     "output_type": "execute_result"
    }
   ],
   "source": [
    "# Modulus operator: it returns the remainder from the division of the first argument by the second\n",
    "3 % 2"
   ]
  },
  {
   "cell_type": "code",
   "execution_count": 7,
   "id": "e1487a31",
   "metadata": {},
   "outputs": [
    {
     "data": {
      "text/plain": [
       "2"
      ]
     },
     "execution_count": 7,
     "metadata": {},
     "output_type": "execute_result"
    }
   ],
   "source": [
    "# Floor division operator: behaves like normal division except that it returns the largest possible integer\n",
    "5 // 2"
   ]
  },
  {
   "cell_type": "markdown",
   "id": "959d9237",
   "metadata": {},
   "source": [
    "**Order of operations** matters in Python and looks as follows: exponents, multiplication, division, addition, subtraction. However, you can use parentheses to force an expression to evaluate in the order you want."
   ]
  },
  {
   "cell_type": "code",
   "execution_count": 9,
   "id": "ce84edc9",
   "metadata": {},
   "outputs": [
    {
     "data": {
      "text/plain": [
       "64"
      ]
     },
     "execution_count": 9,
     "metadata": {},
     "output_type": "execute_result"
    }
   ],
   "source": [
    "# Since expressions in parentheses are evaluted first, the results is 64\n",
    "((2 + 2) * 2) ** 2"
   ]
  },
  {
   "cell_type": "markdown",
   "id": "644084c4",
   "metadata": {},
   "source": [
    "## Data Structures\n",
    "\n",
    "There are quite a few data structures available in Python. The builtins data structures are: lists, tuples, strings, dictionaries and sets. Lists, strings and tuples are ordered sequences of objects. Unlike strings which contain only characters, list and tuples can contain objects of any type. Lists are unlike tuples and strings mutable and can be extended or reduced at any time. Sets are mutable unordered sequences of unique elements. Dictionaries are an unordered collection of items (key/value) pair."
   ]
  },
  {
   "cell_type": "markdown",
   "id": "2ba32303",
   "metadata": {},
   "source": [
    "Lists are enclosed in brackets:"
   ]
  },
  {
   "cell_type": "code",
   "execution_count": 11,
   "id": "3f208ef3",
   "metadata": {},
   "outputs": [],
   "source": [
    "l = [4, 5, \"a\"]"
   ]
  },
  {
   "cell_type": "markdown",
   "id": "af2db87b",
   "metadata": {},
   "source": [
    "Tuples are enclosed in parentheses:"
   ]
  },
  {
   "cell_type": "code",
   "execution_count": 12,
   "id": "74a786f4",
   "metadata": {},
   "outputs": [],
   "source": [
    "t = (4, 5, \"a\")"
   ]
  },
  {
   "cell_type": "markdown",
   "id": "ca4871d8",
   "metadata": {},
   "source": [
    "Dictionaries are enclosed in curly brackets:"
   ]
  },
  {
   "cell_type": "code",
   "execution_count": 13,
   "id": "c66f3a6c",
   "metadata": {},
   "outputs": [],
   "source": [
    "d = {\"a\":4, \"b\":5, \"c\":6}"
   ]
  },
  {
   "cell_type": "markdown",
   "id": "d504c95a",
   "metadata": {},
   "source": [
    "Strings are enclosed in double or single quotes:"
   ]
  },
  {
   "cell_type": "code",
   "execution_count": 14,
   "id": "c886ad9b",
   "metadata": {},
   "outputs": [],
   "source": [
    "s = \"This is a character object\""
   ]
  },
  {
   "cell_type": "markdown",
   "id": "d825f99d",
   "metadata": {},
   "source": [
    "### Matrices\n",
    "\n",
    "Matrices in Python are a two-dimensional data structure where values are arranged into rows and columns. The values in matrices must of the same type. Python does not have a builtin type for matrices. However, one can build matrices with a list of lists. As follows:"
   ]
  },
  {
   "cell_type": "code",
   "execution_count": 15,
   "id": "46c5d8ec",
   "metadata": {},
   "outputs": [],
   "source": [
    "M = [[1, 2, 3],\n",
    "    [4, 5, 6],\n",
    "    [7, 8, 9]]"
   ]
  },
  {
   "cell_type": "markdown",
   "id": "8285cc03",
   "metadata": {},
   "source": [
    "### Dataframes\n",
    "\n",
    "Just like matrices, dataframes are also two-dimensional table objects. Unlike matrices, dataframes can contain heterogeneous values, and named (labelled) columns and rows. There are different ways to build a dataframe. One way is to create a dictionary with keys as column names and values as column values.\n",
    "\n",
    "So far we only used Python’s base functions. In order to use some more sophisticated or special Python functions, we need to load libraries or packages first.\n",
    "\n",
    "Since Python has no builtin type for dataframe, we need to make use of the DataFrame function form pandas package. In order to use this function, we first need to import it."
   ]
  },
  {
   "cell_type": "code",
   "execution_count": 1,
   "id": "9b814997",
   "metadata": {},
   "outputs": [
    {
     "name": "stdout",
     "output_type": "stream",
     "text": [
      "    Name  Age   Skill\n",
      "0  Belal   25  Python\n",
      "1    Bob   18    Java\n",
      "2   Gino   23   Spark\n",
      "3   Cris   30     SQL\n"
     ]
    }
   ],
   "source": [
    "# Import pandas\n",
    "import pandas as pd\n",
    "\n",
    "# Create dictionary data\n",
    "data = {'Name': ['Belal', 'Bob', 'Gino', 'Cris'], 'Age': [25, 18, 23, 30], 'Skill': ['Python', 'Java', 'Spark', 'SQL']}\n",
    "\n",
    "# Create DataFrame\n",
    "df = pd.DataFrame(data)\n",
    "print(df)"
   ]
  },
  {
   "cell_type": "markdown",
   "id": "9fc3add2",
   "metadata": {},
   "source": [
    "# Selecting elements in a list, matrix or dataframe\n",
    "\n",
    "Sometimes we want to select one or multiple data entries from our data objects. We can do so by selecting elements via [ ].\n",
    "\n",
    "We first do this for a list:"
   ]
  },
  {
   "cell_type": "code",
   "execution_count": 2,
   "id": "bf506da7",
   "metadata": {},
   "outputs": [],
   "source": [
    "cities = ['Berlin', 'Tokyo', 'Madrid', 'Paris', 'London']"
   ]
  },
  {
   "cell_type": "markdown",
   "id": "d1cc4126",
   "metadata": {},
   "source": [
    "Let's say we only want to select *Berlin* from the above list. We can achieve this by accessing the value via its position in the list which is zero in this case (Python indexing starts at zero):"
   ]
  },
  {
   "cell_type": "code",
   "execution_count": 3,
   "id": "bab76bc3",
   "metadata": {},
   "outputs": [
    {
     "data": {
      "text/plain": [
       "'Berlin'"
      ]
     },
     "execution_count": 3,
     "metadata": {},
     "output_type": "execute_result"
    }
   ],
   "source": [
    "cities[0]"
   ]
  },
  {
   "cell_type": "markdown",
   "id": "2fbb68f3",
   "metadata": {},
   "source": [
    "The first three elements can be accessed as follows:"
   ]
  },
  {
   "cell_type": "code",
   "execution_count": 4,
   "id": "792ae908",
   "metadata": {},
   "outputs": [
    {
     "data": {
      "text/plain": [
       "['Berlin', 'Tokyo', 'Madrid']"
      ]
     },
     "execution_count": 4,
     "metadata": {},
     "output_type": "execute_result"
    }
   ],
   "source": [
    "cities[0:3]"
   ]
  },
  {
   "cell_type": "markdown",
   "id": "69fc20d8",
   "metadata": {},
   "source": [
    "Python also supports negative or reverse indexing. To access the last element in the list, we can proceed as follows:"
   ]
  },
  {
   "cell_type": "code",
   "execution_count": 6,
   "id": "e9de0b39",
   "metadata": {},
   "outputs": [
    {
     "data": {
      "text/plain": [
       "'London'"
      ]
     },
     "execution_count": 6,
     "metadata": {},
     "output_type": "execute_result"
    }
   ],
   "source": [
    "cities[-1]"
   ]
  },
  {
   "cell_type": "markdown",
   "id": "11cc8a62",
   "metadata": {},
   "source": [
    "### Selecting elements in two-dimensional objects\n",
    "\n",
    "Similar like lists, we can access values of a matrix using index. However, we need to think of one additional dimension. We, generally, type object[row, column] to access specific rows and columns. Let's consider the following matrix:"
   ]
  },
  {
   "cell_type": "code",
   "execution_count": 19,
   "id": "d8e2ff5a",
   "metadata": {},
   "outputs": [
    {
     "name": "stdout",
     "output_type": "stream",
     "text": [
      "[[1 2 3]\n",
      " [4 5 6]\n",
      " [7 8 9]]\n"
     ]
    }
   ],
   "source": [
    "import numpy as np\n",
    "\n",
    "M = np.array([[1, 2, 3],\n",
    "    [4, 5, 6],\n",
    "    [7, 8, 9]])\n",
    "print(M)"
   ]
  },
  {
   "cell_type": "markdown",
   "id": "fba45cea",
   "metadata": {},
   "source": [
    "Now we want to access the value 8. It’s in the third row and the second column. Recall that Python indexing for rows and columns starts at zero:"
   ]
  },
  {
   "cell_type": "code",
   "execution_count": 20,
   "id": "a47614cc",
   "metadata": {},
   "outputs": [
    {
     "data": {
      "text/plain": [
       "8"
      ]
     },
     "execution_count": 20,
     "metadata": {},
     "output_type": "execute_result"
    }
   ],
   "source": [
    "M[2, 1]"
   ]
  },
  {
   "cell_type": "markdown",
   "id": "bc3d3349",
   "metadata": {},
   "source": [
    "### Selecting with conditions\n",
    "\n",
    "This is a good start to access data in an object. However, it might be a bit exhausting (maybe even impossible) to always look up the exact position in the object.\n",
    "\n",
    "Fortunately, Python allows us also select elements based on conditions. Instead of the position we put a conditionin the [ ] square brackets.\n",
    "\n",
    "- For this, we can use the comparison operators in Python:\n",
    "\n",
    "    - Is equal to:            `==`\n",
    "    - Is not equal to:        `!=`\n",
    "    - Is smaller than:        `<`\n",
    "    - Is greater than:        `>`\n",
    "    - Is smaller or equal to: `<=`\n",
    "    - Is greater or equal to: `>=`\n",
    "    \n",
    "- Conditions can be combined with and and/or or statements\n",
    "    - AND: logical `AND`, binary `&`\n",
    "    - OR:  logical `OR` , binary `|`\n",
    "\n",
    "So how to subset with conditions. Let's create a matrix to work with. For this purpose, we use the numpy `arange` function which returns evenly spaced values within a given interval. We then reshape it to have 4 rows and 5 columns for the matrix."
   ]
  },
  {
   "cell_type": "code",
   "execution_count": 4,
   "id": "712361c2",
   "metadata": {},
   "outputs": [
    {
     "name": "stdout",
     "output_type": "stream",
     "text": [
      "[[ 0  1  2  3  4]\n",
      " [ 5  6  7  8  9]\n",
      " [10 11 12 13 14]\n",
      " [15 16 17 18 19]]\n"
     ]
    }
   ],
   "source": [
    "import numpy as np\n",
    "\n",
    "example_mat = np.arange(0, 20).reshape(4, 5)\n",
    "print(example_mat)"
   ]
  },
  {
   "cell_type": "markdown",
   "id": "f416302c",
   "metadata": {},
   "source": [
    "Let's say we are interested in all values greater than 4. We can proceed as follows: `example_mat > 4`. This returns True or False for each value.\n",
    "\n",
    "Now if we put this condition in square brackets we get the values for which the condition is true."
   ]
  },
  {
   "cell_type": "code",
   "execution_count": 5,
   "id": "72ff567a",
   "metadata": {},
   "outputs": [
    {
     "data": {
      "text/plain": [
       "array([ 5,  6,  7,  8,  9, 10, 11, 12, 13, 14, 15, 16, 17, 18, 19])"
      ]
     },
     "execution_count": 5,
     "metadata": {},
     "output_type": "execute_result"
    }
   ],
   "source": [
    "example_mat[example_mat > 4]"
   ]
  },
  {
   "cell_type": "markdown",
   "id": "3dbd1a1c",
   "metadata": {},
   "source": [
    "# Working with DataFrames\n",
    "\n",
    "Working with dataframes is similar to working with matrices. \n",
    "\n",
    "## Loading and manipulating data\n",
    "\n",
    "Most of the times we want to work with dataframes in Python. Before working with dataframes when need to load them. Luckily, Python can load most of the standard formats of datasets.\n",
    "\n",
    "The dataset we want to work with is stored as `csv` or comma-separated values file. Reading the `csv`into a dataframe is straight forward with the pandas' `pandas.read_csv`."
   ]
  },
  {
   "cell_type": "code",
   "execution_count": 18,
   "id": "54980804",
   "metadata": {},
   "outputs": [],
   "source": [
    "import pandas as pd\n",
    "df = pd.read_csv(\"raw_data/example_data.csv\")"
   ]
  },
  {
   "cell_type": "markdown",
   "id": "70fbef0d",
   "metadata": {},
   "source": [
    "With `DataFrame.head()` we can look at the first five rows of the data set"
   ]
  },
  {
   "cell_type": "code",
   "execution_count": 19,
   "id": "d8fd9365",
   "metadata": {},
   "outputs": [
    {
     "data": {
      "text/html": [
       "<div>\n",
       "<style scoped>\n",
       "    .dataframe tbody tr th:only-of-type {\n",
       "        vertical-align: middle;\n",
       "    }\n",
       "\n",
       "    .dataframe tbody tr th {\n",
       "        vertical-align: top;\n",
       "    }\n",
       "\n",
       "    .dataframe thead th {\n",
       "        text-align: right;\n",
       "    }\n",
       "</style>\n",
       "<table border=\"1\" class=\"dataframe\">\n",
       "  <thead>\n",
       "    <tr style=\"text-align: right;\">\n",
       "      <th></th>\n",
       "      <th>age</th>\n",
       "      <th>gender</th>\n",
       "      <th>income</th>\n",
       "    </tr>\n",
       "  </thead>\n",
       "  <tbody>\n",
       "    <tr>\n",
       "      <th>0</th>\n",
       "      <td>34</td>\n",
       "      <td>Male</td>\n",
       "      <td>3291</td>\n",
       "    </tr>\n",
       "    <tr>\n",
       "      <th>1</th>\n",
       "      <td>28</td>\n",
       "      <td>Female</td>\n",
       "      <td>3666</td>\n",
       "    </tr>\n",
       "    <tr>\n",
       "      <th>2</th>\n",
       "      <td>76</td>\n",
       "      <td>Female</td>\n",
       "      <td>3873</td>\n",
       "    </tr>\n",
       "    <tr>\n",
       "      <th>3</th>\n",
       "      <td>69</td>\n",
       "      <td>Female</td>\n",
       "      <td>3067</td>\n",
       "    </tr>\n",
       "    <tr>\n",
       "      <th>4</th>\n",
       "      <td>92</td>\n",
       "      <td>Male</td>\n",
       "      <td>4231</td>\n",
       "    </tr>\n",
       "  </tbody>\n",
       "</table>\n",
       "</div>"
      ],
      "text/plain": [
       "   age  gender  income\n",
       "0   34    Male    3291\n",
       "1   28  Female    3666\n",
       "2   76  Female    3873\n",
       "3   69  Female    3067\n",
       "4   92    Male    4231"
      ]
     },
     "execution_count": 19,
     "metadata": {},
     "output_type": "execute_result"
    }
   ],
   "source": [
    "df.head()"
   ]
  },
  {
   "cell_type": "markdown",
   "id": "faa2c0ca",
   "metadata": {},
   "source": [
    "If we only want to look at the column names, we can use the `columns` method of the dataframe like this: `DataFrame.columns`"
   ]
  },
  {
   "cell_type": "code",
   "execution_count": 20,
   "id": "5f90a32d",
   "metadata": {},
   "outputs": [
    {
     "data": {
      "text/plain": [
       "Index(['age', 'gender', 'income'], dtype='object')"
      ]
     },
     "execution_count": 20,
     "metadata": {},
     "output_type": "execute_result"
    }
   ],
   "source": [
    "df.columns"
   ]
  },
  {
   "cell_type": "markdown",
   "id": "d232e15b",
   "metadata": {},
   "source": [
    "## Selecting data from a DataFrame\n",
    "\n",
    "Now we can use our selecting abilities on a data frame. We can select elements in three different ways:\n",
    "\n",
    "1. Dataframe[ ] : selecting data with indexing operator\n",
    "2. Dataframe.loc[ ] : selecting data using row or column labels.\n",
    "3. Dataframe.iloc[ ] : selecting data using index positions\n",
    "\n",
    "### 1. Indexing a DataFrame using df[ ] :\n",
    "\n",
    "##### Selecting one column\n",
    "\n",
    "In order to select a single column, we simply put the name of the column in-between the brackets like this: `DataFrame[“column_name\"]`"
   ]
  },
  {
   "cell_type": "code",
   "execution_count": 21,
   "id": "fda401d1",
   "metadata": {},
   "outputs": [
    {
     "data": {
      "text/plain": [
       "0      34\n",
       "1      28\n",
       "2      76\n",
       "3      69\n",
       "4      92\n",
       "       ..\n",
       "995    60\n",
       "996    40\n",
       "997    82\n",
       "998    23\n",
       "999    25\n",
       "Name: age, Length: 1000, dtype: int64"
      ]
     },
     "execution_count": 21,
     "metadata": {},
     "output_type": "execute_result"
    }
   ],
   "source": [
    "df[\"age\"]"
   ]
  },
  {
   "cell_type": "markdown",
   "id": "be2a0abe",
   "metadata": {},
   "source": [
    "##### Selecting multiple columns\n",
    "\n",
    "In order to select multiple columns, we have to pass a list of columns inside the indexing operator like this: `DataFrame.[[“col1_name\",“col2_name\", “col3_name\"]`"
   ]
  },
  {
   "cell_type": "code",
   "execution_count": 22,
   "id": "0bbf86e9",
   "metadata": {},
   "outputs": [
    {
     "data": {
      "text/html": [
       "<div>\n",
       "<style scoped>\n",
       "    .dataframe tbody tr th:only-of-type {\n",
       "        vertical-align: middle;\n",
       "    }\n",
       "\n",
       "    .dataframe tbody tr th {\n",
       "        vertical-align: top;\n",
       "    }\n",
       "\n",
       "    .dataframe thead th {\n",
       "        text-align: right;\n",
       "    }\n",
       "</style>\n",
       "<table border=\"1\" class=\"dataframe\">\n",
       "  <thead>\n",
       "    <tr style=\"text-align: right;\">\n",
       "      <th></th>\n",
       "      <th>age</th>\n",
       "      <th>gender</th>\n",
       "      <th>income</th>\n",
       "    </tr>\n",
       "  </thead>\n",
       "  <tbody>\n",
       "    <tr>\n",
       "      <th>0</th>\n",
       "      <td>34</td>\n",
       "      <td>Male</td>\n",
       "      <td>3291</td>\n",
       "    </tr>\n",
       "    <tr>\n",
       "      <th>1</th>\n",
       "      <td>28</td>\n",
       "      <td>Female</td>\n",
       "      <td>3666</td>\n",
       "    </tr>\n",
       "    <tr>\n",
       "      <th>2</th>\n",
       "      <td>76</td>\n",
       "      <td>Female</td>\n",
       "      <td>3873</td>\n",
       "    </tr>\n",
       "    <tr>\n",
       "      <th>3</th>\n",
       "      <td>69</td>\n",
       "      <td>Female</td>\n",
       "      <td>3067</td>\n",
       "    </tr>\n",
       "    <tr>\n",
       "      <th>4</th>\n",
       "      <td>92</td>\n",
       "      <td>Male</td>\n",
       "      <td>4231</td>\n",
       "    </tr>\n",
       "    <tr>\n",
       "      <th>...</th>\n",
       "      <td>...</td>\n",
       "      <td>...</td>\n",
       "      <td>...</td>\n",
       "    </tr>\n",
       "    <tr>\n",
       "      <th>995</th>\n",
       "      <td>60</td>\n",
       "      <td>Male</td>\n",
       "      <td>2260</td>\n",
       "    </tr>\n",
       "    <tr>\n",
       "      <th>996</th>\n",
       "      <td>40</td>\n",
       "      <td>Male</td>\n",
       "      <td>3355</td>\n",
       "    </tr>\n",
       "    <tr>\n",
       "      <th>997</th>\n",
       "      <td>82</td>\n",
       "      <td>Male</td>\n",
       "      <td>1848</td>\n",
       "    </tr>\n",
       "    <tr>\n",
       "      <th>998</th>\n",
       "      <td>23</td>\n",
       "      <td>Male</td>\n",
       "      <td>3000</td>\n",
       "    </tr>\n",
       "    <tr>\n",
       "      <th>999</th>\n",
       "      <td>25</td>\n",
       "      <td>Female</td>\n",
       "      <td>4551</td>\n",
       "    </tr>\n",
       "  </tbody>\n",
       "</table>\n",
       "<p>1000 rows × 3 columns</p>\n",
       "</div>"
      ],
      "text/plain": [
       "     age  gender  income\n",
       "0     34    Male    3291\n",
       "1     28  Female    3666\n",
       "2     76  Female    3873\n",
       "3     69  Female    3067\n",
       "4     92    Male    4231\n",
       "..   ...     ...     ...\n",
       "995   60    Male    2260\n",
       "996   40    Male    3355\n",
       "997   82    Male    1848\n",
       "998   23    Male    3000\n",
       "999   25  Female    4551\n",
       "\n",
       "[1000 rows x 3 columns]"
      ]
     },
     "execution_count": 22,
     "metadata": {},
     "output_type": "execute_result"
    }
   ],
   "source": [
    "df[[\"age\", \"gender\", \"income\"]]"
   ]
  },
  {
   "cell_type": "markdown",
   "id": "ea9b33ae",
   "metadata": {},
   "source": [
    "### 2. Indexing a DataFrame using .loc[ ] :\n",
    "\n",
    "This function selects data by the label of the rows and columns. Unlike the indexing operator which selects the entire column(s), the `df.loc` indexer can select subsets of rows and columns. Let's take a lood at the dataframe with labelled rows. `first_name` is used as row label for every sample in the dataset:"
   ]
  },
  {
   "cell_type": "code",
   "execution_count": 23,
   "id": "5fe3b29d",
   "metadata": {},
   "outputs": [
    {
     "data": {
      "text/html": [
       "<div>\n",
       "<style scoped>\n",
       "    .dataframe tbody tr th:only-of-type {\n",
       "        vertical-align: middle;\n",
       "    }\n",
       "\n",
       "    .dataframe tbody tr th {\n",
       "        vertical-align: top;\n",
       "    }\n",
       "\n",
       "    .dataframe thead th {\n",
       "        text-align: right;\n",
       "    }\n",
       "</style>\n",
       "<table border=\"1\" class=\"dataframe\">\n",
       "  <thead>\n",
       "    <tr style=\"text-align: right;\">\n",
       "      <th></th>\n",
       "      <th>last_name</th>\n",
       "      <th>email</th>\n",
       "      <th>gender</th>\n",
       "      <th>income</th>\n",
       "    </tr>\n",
       "    <tr>\n",
       "      <th>first_name</th>\n",
       "      <th></th>\n",
       "      <th></th>\n",
       "      <th></th>\n",
       "      <th></th>\n",
       "    </tr>\n",
       "  </thead>\n",
       "  <tbody>\n",
       "    <tr>\n",
       "      <th>Elnar</th>\n",
       "      <td>Sargison</td>\n",
       "      <td>esargison0@ebay.co.uk</td>\n",
       "      <td>Genderfluid</td>\n",
       "      <td>1638</td>\n",
       "    </tr>\n",
       "    <tr>\n",
       "      <th>Sunny</th>\n",
       "      <td>Coopper</td>\n",
       "      <td>scoopper1@loc.gov</td>\n",
       "      <td>Bigender</td>\n",
       "      <td>3408</td>\n",
       "    </tr>\n",
       "    <tr>\n",
       "      <th>Neils</th>\n",
       "      <td>Philott</td>\n",
       "      <td>nphilott2@home.pl</td>\n",
       "      <td>Genderfluid</td>\n",
       "      <td>4497</td>\n",
       "    </tr>\n",
       "    <tr>\n",
       "      <th>Chaunce</th>\n",
       "      <td>Espina</td>\n",
       "      <td>cespina3@guardian.co.uk</td>\n",
       "      <td>Genderqueer</td>\n",
       "      <td>2530</td>\n",
       "    </tr>\n",
       "    <tr>\n",
       "      <th>Deeann</th>\n",
       "      <td>Nazareth</td>\n",
       "      <td>dnazareth4@nifty.com</td>\n",
       "      <td>Genderqueer</td>\n",
       "      <td>3033</td>\n",
       "    </tr>\n",
       "  </tbody>\n",
       "</table>\n",
       "</div>"
      ],
      "text/plain": [
       "           last_name                    email       gender  income\n",
       "first_name                                                        \n",
       "Elnar       Sargison    esargison0@ebay.co.uk  Genderfluid    1638\n",
       "Sunny        Coopper        scoopper1@loc.gov     Bigender    3408\n",
       "Neils        Philott        nphilott2@home.pl  Genderfluid    4497\n",
       "Chaunce       Espina  cespina3@guardian.co.uk  Genderqueer    2530\n",
       "Deeann      Nazareth     dnazareth4@nifty.com  Genderqueer    3033"
      ]
     },
     "execution_count": 23,
     "metadata": {},
     "output_type": "execute_result"
    }
   ],
   "source": [
    "import pandas as pd\n",
    "df = pd.read_csv(\"raw_data/example_data2.csv\", index_col= \"first_name\")\n",
    "df.head()"
   ]
  },
  {
   "cell_type": "markdown",
   "id": "ebe79a4d",
   "metadata": {},
   "source": [
    "##### Selecting a single row using .loc[ ]\n",
    "\n",
    "In order to select a single row using .loc[ ], we put a single row label in the .loc function. As a result, we get name of the column with its corresponding value for the requested row:"
   ]
  },
  {
   "cell_type": "code",
   "execution_count": 24,
   "id": "da1acc06",
   "metadata": {},
   "outputs": [
    {
     "data": {
      "text/plain": [
       "last_name                 Sargison\n",
       "email        esargison0@ebay.co.uk\n",
       "gender                 Genderfluid\n",
       "income                        1638\n",
       "Name: Elnar, dtype: object"
      ]
     },
     "execution_count": 24,
     "metadata": {},
     "output_type": "execute_result"
    }
   ],
   "source": [
    "df.loc[\"Elnar\"]"
   ]
  },
  {
   "cell_type": "markdown",
   "id": "c1724a98",
   "metadata": {},
   "source": [
    "##### Selecting multiple rows using .loc[ ]\n",
    "\n",
    "In order to select multiple rows, we put all the row labels in a list and pass that to .loc indexer."
   ]
  },
  {
   "cell_type": "markdown",
   "id": "25718e6f",
   "metadata": {},
   "source": [
    "df.loc[[\"Elnar\", \"Sunny\", \"Deeann\"]]"
   ]
  },
  {
   "cell_type": "markdown",
   "id": "d2154847",
   "metadata": {},
   "source": [
    "#### Selecting multiple rows and columns using .loc[ ]\n",
    "\n",
    "In order to select different rows and columns, we pass row and column labels in two different lists separated by a comma like this: `df.loc[[\"row1\", \"row2\", \"row3\"], [\"column1\", \"column2\"]]`"
   ]
  },
  {
   "cell_type": "code",
   "execution_count": 28,
   "id": "4e8629ed",
   "metadata": {},
   "outputs": [
    {
     "data": {
      "text/html": [
       "<div>\n",
       "<style scoped>\n",
       "    .dataframe tbody tr th:only-of-type {\n",
       "        vertical-align: middle;\n",
       "    }\n",
       "\n",
       "    .dataframe tbody tr th {\n",
       "        vertical-align: top;\n",
       "    }\n",
       "\n",
       "    .dataframe thead th {\n",
       "        text-align: right;\n",
       "    }\n",
       "</style>\n",
       "<table border=\"1\" class=\"dataframe\">\n",
       "  <thead>\n",
       "    <tr style=\"text-align: right;\">\n",
       "      <th></th>\n",
       "      <th>email</th>\n",
       "      <th>gender</th>\n",
       "      <th>income</th>\n",
       "    </tr>\n",
       "    <tr>\n",
       "      <th>first_name</th>\n",
       "      <th></th>\n",
       "      <th></th>\n",
       "      <th></th>\n",
       "    </tr>\n",
       "  </thead>\n",
       "  <tbody>\n",
       "    <tr>\n",
       "      <th>Elnar</th>\n",
       "      <td>esargison0@ebay.co.uk</td>\n",
       "      <td>Genderfluid</td>\n",
       "      <td>1638</td>\n",
       "    </tr>\n",
       "    <tr>\n",
       "      <th>Sunny</th>\n",
       "      <td>scoopper1@loc.gov</td>\n",
       "      <td>Bigender</td>\n",
       "      <td>3408</td>\n",
       "    </tr>\n",
       "  </tbody>\n",
       "</table>\n",
       "</div>"
      ],
      "text/plain": [
       "                            email       gender  income\n",
       "first_name                                            \n",
       "Elnar       esargison0@ebay.co.uk  Genderfluid    1638\n",
       "Sunny           scoopper1@loc.gov     Bigender    3408"
      ]
     },
     "execution_count": 28,
     "metadata": {},
     "output_type": "execute_result"
    }
   ],
   "source": [
    "df.loc[[\"Elnar\", \"Sunny\"], [\"email\", \"gender\", \"income\"]]"
   ]
  },
  {
   "cell_type": "markdown",
   "id": "d8139daf",
   "metadata": {},
   "source": [
    "### 3. Indexing a DataFrame using .iloc[ ] :\n",
    "\n",
    "#### Selecting a single row\n",
    "\n",
    "Pass a single integer to .iloc[] function to select only one row:"
   ]
  },
  {
   "cell_type": "code",
   "execution_count": 29,
   "id": "6367ca78",
   "metadata": {},
   "outputs": [
    {
     "data": {
      "text/plain": [
       "last_name             Seamans\n",
       "email        dseamans5@ft.com\n",
       "gender             Polygender\n",
       "income                   4513\n",
       "Name: Dulciana, dtype: object"
      ]
     },
     "execution_count": 29,
     "metadata": {},
     "output_type": "execute_result"
    }
   ],
   "source": [
    "df.iloc[5]"
   ]
  },
  {
   "cell_type": "markdown",
   "id": "325b8693",
   "metadata": {},
   "source": [
    "#### Selecting a multiple rows\n",
    "\n",
    "Pass a list of integers to .iloc[] function to select more than one row:"
   ]
  },
  {
   "cell_type": "code",
   "execution_count": 31,
   "id": "70afe9cd",
   "metadata": {},
   "outputs": [
    {
     "data": {
      "text/html": [
       "<div>\n",
       "<style scoped>\n",
       "    .dataframe tbody tr th:only-of-type {\n",
       "        vertical-align: middle;\n",
       "    }\n",
       "\n",
       "    .dataframe tbody tr th {\n",
       "        vertical-align: top;\n",
       "    }\n",
       "\n",
       "    .dataframe thead th {\n",
       "        text-align: right;\n",
       "    }\n",
       "</style>\n",
       "<table border=\"1\" class=\"dataframe\">\n",
       "  <thead>\n",
       "    <tr style=\"text-align: right;\">\n",
       "      <th></th>\n",
       "      <th>last_name</th>\n",
       "      <th>email</th>\n",
       "      <th>gender</th>\n",
       "      <th>income</th>\n",
       "    </tr>\n",
       "    <tr>\n",
       "      <th>first_name</th>\n",
       "      <th></th>\n",
       "      <th></th>\n",
       "      <th></th>\n",
       "      <th></th>\n",
       "    </tr>\n",
       "  </thead>\n",
       "  <tbody>\n",
       "    <tr>\n",
       "      <th>Neils</th>\n",
       "      <td>Philott</td>\n",
       "      <td>nphilott2@home.pl</td>\n",
       "      <td>Genderfluid</td>\n",
       "      <td>4497</td>\n",
       "    </tr>\n",
       "    <tr>\n",
       "      <th>Deeann</th>\n",
       "      <td>Nazareth</td>\n",
       "      <td>dnazareth4@nifty.com</td>\n",
       "      <td>Genderqueer</td>\n",
       "      <td>3033</td>\n",
       "    </tr>\n",
       "    <tr>\n",
       "      <th>Dulciana</th>\n",
       "      <td>Seamans</td>\n",
       "      <td>dseamans5@ft.com</td>\n",
       "      <td>Polygender</td>\n",
       "      <td>4513</td>\n",
       "    </tr>\n",
       "  </tbody>\n",
       "</table>\n",
       "</div>"
      ],
      "text/plain": [
       "           last_name                 email       gender  income\n",
       "first_name                                                     \n",
       "Neils        Philott     nphilott2@home.pl  Genderfluid    4497\n",
       "Deeann      Nazareth  dnazareth4@nifty.com  Genderqueer    3033\n",
       "Dulciana     Seamans      dseamans5@ft.com   Polygender    4513"
      ]
     },
     "execution_count": 31,
     "metadata": {},
     "output_type": "execute_result"
    }
   ],
   "source": [
    "df.iloc[[2, 4, 5]]"
   ]
  },
  {
   "cell_type": "markdown",
   "id": "7b97938c",
   "metadata": {},
   "source": [
    "#### Selecting a multiple rows and columns\n",
    "\n",
    "Pass two lists of integers (one for rows, one for columns) to .iloc[] function separated by a comma, in order to select mulitple rows and columns:"
   ]
  },
  {
   "cell_type": "code",
   "execution_count": 32,
   "id": "528c04b1",
   "metadata": {},
   "outputs": [
    {
     "data": {
      "text/html": [
       "<div>\n",
       "<style scoped>\n",
       "    .dataframe tbody tr th:only-of-type {\n",
       "        vertical-align: middle;\n",
       "    }\n",
       "\n",
       "    .dataframe tbody tr th {\n",
       "        vertical-align: top;\n",
       "    }\n",
       "\n",
       "    .dataframe thead th {\n",
       "        text-align: right;\n",
       "    }\n",
       "</style>\n",
       "<table border=\"1\" class=\"dataframe\">\n",
       "  <thead>\n",
       "    <tr style=\"text-align: right;\">\n",
       "      <th></th>\n",
       "      <th>email</th>\n",
       "      <th>income</th>\n",
       "    </tr>\n",
       "    <tr>\n",
       "      <th>first_name</th>\n",
       "      <th></th>\n",
       "      <th></th>\n",
       "    </tr>\n",
       "  </thead>\n",
       "  <tbody>\n",
       "    <tr>\n",
       "      <th>Neils</th>\n",
       "      <td>nphilott2@home.pl</td>\n",
       "      <td>4497</td>\n",
       "    </tr>\n",
       "    <tr>\n",
       "      <th>Deeann</th>\n",
       "      <td>dnazareth4@nifty.com</td>\n",
       "      <td>3033</td>\n",
       "    </tr>\n",
       "  </tbody>\n",
       "</table>\n",
       "</div>"
      ],
      "text/plain": [
       "                           email  income\n",
       "first_name                              \n",
       "Neils          nphilott2@home.pl    4497\n",
       "Deeann      dnazareth4@nifty.com    3033"
      ]
     },
     "execution_count": 32,
     "metadata": {},
     "output_type": "execute_result"
    }
   ],
   "source": [
    "df.iloc [[2, 4], [1, 3]]"
   ]
  }
 ],
 "metadata": {
  "kernelspec": {
   "display_name": "Python 3",
   "language": "python",
   "name": "python3"
  },
  "language_info": {
   "codemirror_mode": {
    "name": "ipython",
    "version": 3
   },
   "file_extension": ".py",
   "mimetype": "text/x-python",
   "name": "python",
   "nbconvert_exporter": "python",
   "pygments_lexer": "ipython3",
   "version": "3.8.8"
  }
 },
 "nbformat": 4,
 "nbformat_minor": 5
}
