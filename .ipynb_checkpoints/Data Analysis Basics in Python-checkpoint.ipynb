{
 "cells": [
  {
   "cell_type": "markdown",
   "id": "3b773d2e",
   "metadata": {},
   "source": [
    "# First Tutorial\n",
    "### Learning Goals of the first Tutorial\n",
    "\n",
    "1. What is Python?\n",
    "2. How to use Python as a basic calculator\n",
    "3. Data structures in Python: strings, lists, sets, tuples, dictionaries and matrices\n",
    "4. Select elements in a string, list or dataframe\n",
    "5. Working with data.frames - Loading and manipulating data\n",
    "6. Plotting data and saving plots"
   ]
  },
  {
   "cell_type": "markdown",
   "id": "3acbd854",
   "metadata": {},
   "source": [
    "## What is Python\n",
    "\n",
    "Python is an open-source programming language designed to help you create web applications, perform data analysis and machine learning, create graphics and many more. \n",
    "\n",
    "Python is popular for having a **simple syntax**, being **versatile** (used for many different tasks), being **beginner friendly** and having a **large and active community**."
   ]
  },
  {
   "cell_type": "markdown",
   "id": "9750a5e5",
   "metadata": {},
   "source": [
    "## Python as a basic calculator\n",
    "\n",
    "Python can perform arithmetic operations. Here are some examples:"
   ]
  },
  {
   "cell_type": "code",
   "execution_count": 1,
   "id": "ecd09383",
   "metadata": {},
   "outputs": [
    {
     "data": {
      "text/plain": [
       "3"
      ]
     },
     "execution_count": 1,
     "metadata": {},
     "output_type": "execute_result"
    }
   ],
   "source": [
    "# Addition\n",
    "1 + 2"
   ]
  },
  {
   "cell_type": "code",
   "execution_count": 2,
   "id": "b16074ed",
   "metadata": {},
   "outputs": [
    {
     "data": {
      "text/plain": [
       "2"
      ]
     },
     "execution_count": 2,
     "metadata": {},
     "output_type": "execute_result"
    }
   ],
   "source": [
    "# Subtraction\n",
    "4 - 2"
   ]
  },
  {
   "cell_type": "code",
   "execution_count": 3,
   "id": "364acf0a",
   "metadata": {},
   "outputs": [
    {
     "data": {
      "text/plain": [
       "12"
      ]
     },
     "execution_count": 3,
     "metadata": {},
     "output_type": "execute_result"
    }
   ],
   "source": [
    "# Mulitiplication\n",
    "3 * 4"
   ]
  },
  {
   "cell_type": "code",
   "execution_count": 4,
   "id": "da78cd71",
   "metadata": {},
   "outputs": [
    {
     "data": {
      "text/plain": [
       "2.6666666666666665"
      ]
     },
     "execution_count": 4,
     "metadata": {},
     "output_type": "execute_result"
    }
   ],
   "source": [
    "# Division\n",
    "8 / 3"
   ]
  },
  {
   "cell_type": "code",
   "execution_count": 5,
   "id": "eb65849d",
   "metadata": {},
   "outputs": [
    {
     "data": {
      "text/plain": [
       "8"
      ]
     },
     "execution_count": 5,
     "metadata": {},
     "output_type": "execute_result"
    }
   ],
   "source": [
    "# Exponentiation\n",
    "2 ** 3"
   ]
  },
  {
   "cell_type": "code",
   "execution_count": 6,
   "id": "201101d2",
   "metadata": {},
   "outputs": [
    {
     "data": {
      "text/plain": [
       "1"
      ]
     },
     "execution_count": 6,
     "metadata": {},
     "output_type": "execute_result"
    }
   ],
   "source": [
    "# Modulus operator: it returns the remainder from the division of the first argument by the second\n",
    "3 % 2"
   ]
  },
  {
   "cell_type": "code",
   "execution_count": 7,
   "id": "7edcdab6",
   "metadata": {},
   "outputs": [
    {
     "data": {
      "text/plain": [
       "2"
      ]
     },
     "execution_count": 7,
     "metadata": {},
     "output_type": "execute_result"
    }
   ],
   "source": [
    "# Floor division operator: behaves like normal division except that it returns the largest possible integer\n",
    "5 // 2"
   ]
  },
  {
   "cell_type": "markdown",
   "id": "94821a4f",
   "metadata": {},
   "source": [
    "**Order of operations** matters in Python and looks as follows: exponents, multiplication, division, addition, subtraction. However, you can use parentheses to force an expression to evaluate in the order you want."
   ]
  },
  {
   "cell_type": "code",
   "execution_count": 9,
   "id": "987568a4",
   "metadata": {},
   "outputs": [
    {
     "data": {
      "text/plain": [
       "64"
      ]
     },
     "execution_count": 9,
     "metadata": {},
     "output_type": "execute_result"
    }
   ],
   "source": [
    "# Since expressions in parentheses are evaluted first, the results is 64\n",
    "((2 + 2) * 2) ** 2"
   ]
  },
  {
   "cell_type": "markdown",
   "id": "8b484863",
   "metadata": {},
   "source": [
    "## Data Structures\n",
    "\n",
    "There are quite a few data structures available in Python. The builtins data structures are: lists, tuples, strings, dictionaries and sets. Lists, strings and tuples are ordered sequences of objects. Unlike strings which contain only characters, list and tuples can contain objects of any type. Lists are unlike tuples and strings mutable and can be extended or reduced at any time. Sets are mutable unordered sequences of unique elements. Dictionaries are an unordered collection of items (key/value) pair."
   ]
  },
  {
   "cell_type": "markdown",
   "id": "84d396d4",
   "metadata": {},
   "source": [
    "Lists are enclosed in brackets:"
   ]
  },
  {
   "cell_type": "code",
   "execution_count": 11,
   "id": "f8775ef8",
   "metadata": {},
   "outputs": [],
   "source": [
    "l = [4, 5, \"a\"]"
   ]
  },
  {
   "cell_type": "markdown",
   "id": "6f2fc14c",
   "metadata": {},
   "source": [
    "Tuples are enclosed in parentheses:"
   ]
  },
  {
   "cell_type": "code",
   "execution_count": 12,
   "id": "8094fcc0",
   "metadata": {},
   "outputs": [],
   "source": [
    "t = (4, 5, \"a\")"
   ]
  },
  {
   "cell_type": "markdown",
   "id": "3164915f",
   "metadata": {},
   "source": [
    "Dictionaries are enclosed in curly brackets:"
   ]
  },
  {
   "cell_type": "code",
   "execution_count": 13,
   "id": "2e109f51",
   "metadata": {},
   "outputs": [],
   "source": [
    "d = {\"a\":4, \"b\":5, \"c\":6}"
   ]
  },
  {
   "cell_type": "markdown",
   "id": "42fe206a",
   "metadata": {},
   "source": [
    "Strings are enclosed in double or single quotes:"
   ]
  },
  {
   "cell_type": "code",
   "execution_count": 14,
   "id": "9bf36f77",
   "metadata": {},
   "outputs": [],
   "source": [
    "s = \"This is a character object\""
   ]
  },
  {
   "cell_type": "markdown",
   "id": "c3dcf797",
   "metadata": {},
   "source": [
    "### Matrices\n",
    "\n",
    "Matrices in Python are a two-dimensional data structure where values are arranged into rows and columns. The values in matrices must of the same type. Python does not have a builtin type for matrices. However, one can build matrices with a list of lists. As follows:"
   ]
  },
  {
   "cell_type": "code",
   "execution_count": 15,
   "id": "2a3ddef9",
   "metadata": {},
   "outputs": [],
   "source": [
    "M = [[1, 2, 3],\n",
    "    [4, 5, 6],\n",
    "    [7, 8, 9]]"
   ]
  },
  {
   "cell_type": "markdown",
   "id": "b4df8476",
   "metadata": {},
   "source": [
    "### Dataframes\n",
    "\n",
    "Dataframes are two-dimensional table objects, just like matrices. Unlike matrices, dataframes can contain heterogeneous values, and names columns and rows. There are different ways to build a dataframe. One way is to create a dictionary with keys as column names and values as column values. Since Python has no builtin type for dataframe, we need to make use of the DataFrame function form pandas package. In order to use this function, we first need to import it"
   ]
  },
  {
   "cell_type": "code",
   "execution_count": null,
   "id": "a1755abc",
   "metadata": {},
   "outputs": [],
   "source": [
    "# Import pandas\n",
    "import pandas as pd\n",
    "\n",
    "# Create dictionary data\n",
    "data = {'Name': ['Belal', 'Bob', 'Gino', 'Cris'], 'Age': [25, 18, 23, 30]}\n",
    "\n",
    "# Create DataFrame\n",
    "df = pd.DataFrame(data)\n",
    "print(df)"
   ]
  }
 ],
 "metadata": {
  "kernelspec": {
   "display_name": "Python 3",
   "language": "python",
   "name": "python3"
  },
  "language_info": {
   "codemirror_mode": {
    "name": "ipython",
    "version": 3
   },
   "file_extension": ".py",
   "mimetype": "text/x-python",
   "name": "python",
   "nbconvert_exporter": "python",
   "pygments_lexer": "ipython3",
   "version": "3.8.8"
  }
 },
 "nbformat": 4,
 "nbformat_minor": 5
}
